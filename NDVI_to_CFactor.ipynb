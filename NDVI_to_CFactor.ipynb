{
 "cells": [
  {
   "cell_type": "code",
   "execution_count": 4,
   "id": "ed45c3c6",
   "metadata": {},
   "outputs": [
    {
     "name": "stdout",
     "output_type": "stream",
     "text": [
      "C-factor raster saved at: E:\\DEMs\\Headwaters_Boyer_River\\C_Factor_float32.rst\n"
     ]
    }
   ],
   "source": [
    "import rasterio\n",
    "import numpy as np\n",
    "import subprocess\n",
    "\n",
    "# Paths\n",
    "ndvi_path = r\"E:\\DEMs\\Headwaters_Boyer_River\\8bit_NDVI.tif\"\n",
    "c_factor_tif = r\"E:\\DEMs\\Headwaters_Boyer_River\\C_Factor_float32.tif\"\n",
    "c_factor_rst = r\"E:\\DEMs\\Headwaters_Boyer_River\\C_Factor_float32.rst\"\n",
    "\n",
    "with rasterio.open(ndvi_path) as src:\n",
    "    ndvi_int = src.read(1).astype(np.float32)\n",
    "    ndvi_nodata = src.nodata  # Get original NoData value (e.g., 0 or 255)\n",
    "    profile = src.profile.copy()\n",
    "    profile.update(dtype=rasterio.float32, nodata=0)\n",
    "    \n",
    "    # Create mask for NoData cells\n",
    "    if ndvi_nodata is not None:\n",
    "        nodata_mask = (ndvi_int == ndvi_nodata)\n",
    "    else:\n",
    "        nodata_mask = np.zeros_like(ndvi_int, dtype=bool)\n",
    "    \n",
    "    ndvi = ndvi_int / 100.0\n",
    "    alpha = 2.0\n",
    "    c_factor = np.exp(-alpha * ndvi)\n",
    "    c_factor = np.clip(c_factor, 0, 1)\n",
    "    # Set nodata to 0 for WaTEM/SEDEM\n",
    "    c_factor[nodata_mask] = 0\n",
    "\n",
    "    with rasterio.open(c_factor_tif, 'w', **profile) as dst:\n",
    "        dst.write(c_factor, 1)\n",
    "\n",
    "# Convert GeoTIFF to RST format using gdal_translate\n",
    "subprocess.run([\n",
    "    'gdal_translate',\n",
    "    '-of', 'RST',\n",
    "    '-a_nodata', '0',\n",
    "    c_factor_tif,\n",
    "    c_factor_rst\n",
    "])\n",
    "\n",
    "print(\"C-factor raster saved at:\", c_factor_rst)\n"
   ]
  }
 ],
 "metadata": {
  "kernelspec": {
   "display_name": "pygeospatial",
   "language": "python",
   "name": "python3"
  },
  "language_info": {
   "codemirror_mode": {
    "name": "ipython",
    "version": 3
   },
   "file_extension": ".py",
   "mimetype": "text/x-python",
   "name": "python",
   "nbconvert_exporter": "python",
   "pygments_lexer": "ipython3",
   "version": "3.12.3"
  }
 },
 "nbformat": 4,
 "nbformat_minor": 5
}
